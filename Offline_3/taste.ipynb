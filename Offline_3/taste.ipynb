{
 "cells": [
  {
   "cell_type": "code",
   "execution_count": 1,
   "metadata": {},
   "outputs": [],
   "source": [
    "import torchvision.datasets as ds\n",
    "from torchvision import transforms\n",
    "\n",
    "\n",
    "train_validation_dataset = ds.EMNIST(root='./data', split='letters',\n",
    "                              train=True,\n",
    "                              transform=transforms.ToTensor(),\n",
    "                              download=True)\n",
    "\n",
    "\n",
    "independent_test_dataset = ds.EMNIST(root='./data', split='letters',\n",
    "                             train=False,\n",
    "                             transform=transforms.ToTensor())"
   ]
  },
  {
   "cell_type": "code",
   "execution_count": 2,
   "metadata": {},
   "outputs": [],
   "source": [
    "# from torchvision import datasets, transforms\n",
    "import numpy as np\n"
   ]
  },
  {
   "cell_type": "code",
   "execution_count": 3,
   "metadata": {},
   "outputs": [],
   "source": [
    "\n",
    "# Accessing and reshaping the data\n",
    "# Accessing and reshaping the data\n",
    "train_data = train_validation_dataset.data.reshape((-1, 28*28)).float().numpy()\n",
    "test_data = independent_test_dataset.data.reshape((-1, 28*28)).float().numpy()\n"
   ]
  },
  {
   "cell_type": "code",
   "execution_count": 4,
   "metadata": {},
   "outputs": [],
   "source": [
    "\n",
    "# Normalizing pixel values\n",
    "train_data /= 255.0\n",
    "test_data /= 255.0\n",
    "\n",
    "# Accessing and encoding labels\n",
    "train_labels = train_validation_dataset.targets.numpy()\n",
    "test_labels = independent_test_dataset.targets.numpy()\n"
   ]
  },
  {
   "cell_type": "code",
   "execution_count": 5,
   "metadata": {},
   "outputs": [
    {
     "data": {
      "text/plain": [
       "124800"
      ]
     },
     "execution_count": 5,
     "metadata": {},
     "output_type": "execute_result"
    }
   ],
   "source": [
    "len(train_labels)"
   ]
  },
  {
   "cell_type": "code",
   "execution_count": 6,
   "metadata": {},
   "outputs": [],
   "source": [
    "\n",
    "# Perform one-hot encoding for labels\n",
    "num_classes = len(np.unique(train_labels)) \n",
    "train_labels = np.eye(num_classes)[train_labels - 1]\n",
    "test_labels = np.eye(num_classes)[test_labels - 1]\n"
   ]
  },
  {
   "cell_type": "code",
   "execution_count": 7,
   "metadata": {},
   "outputs": [
    {
     "name": "stdout",
     "output_type": "stream",
     "text": [
      "Shapes after preprocessing:\n",
      "Train Data: (124800, 784)\n",
      "Test Data: (20800, 784)\n",
      "Train Labels: (124800, 26)\n",
      "Test Labels: (20800, 26)\n"
     ]
    }
   ],
   "source": [
    "# Print shapes to verify\n",
    "print(\"Shapes after preprocessing:\")\n",
    "print(\"Train Data:\", train_data.shape)\n",
    "print(\"Test Data:\", test_data.shape)\n",
    "print(\"Train Labels:\", train_labels.shape)\n",
    "print(\"Test Labels:\", test_labels.shape)\n"
   ]
  },
  {
   "cell_type": "code",
   "execution_count": null,
   "metadata": {},
   "outputs": [],
   "source": []
  }
 ],
 "metadata": {
  "kernelspec": {
   "display_name": "ml",
   "language": "python",
   "name": "python3"
  },
  "language_info": {
   "codemirror_mode": {
    "name": "ipython",
    "version": 3
   },
   "file_extension": ".py",
   "mimetype": "text/x-python",
   "name": "python",
   "nbconvert_exporter": "python",
   "pygments_lexer": "ipython3",
   "version": "3.10.13"
  }
 },
 "nbformat": 4,
 "nbformat_minor": 2
}
