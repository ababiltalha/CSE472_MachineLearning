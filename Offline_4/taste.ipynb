{
 "cells": [
  {
   "cell_type": "code",
   "execution_count": 1,
   "metadata": {},
   "outputs": [],
   "source": [
    "import numpy as np\n",
    "import matplotlib.pyplot as plt\n",
    "import matplotlib.animation as animation\n",
    "import pandas as pd"
   ]
  },
  {
   "cell_type": "code",
   "execution_count": 14,
   "metadata": {},
   "outputs": [
    {
     "data": {
      "text/html": [
       "<div>\n",
       "<style scoped>\n",
       "    .dataframe tbody tr th:only-of-type {\n",
       "        vertical-align: middle;\n",
       "    }\n",
       "\n",
       "    .dataframe tbody tr th {\n",
       "        vertical-align: top;\n",
       "    }\n",
       "\n",
       "    .dataframe thead th {\n",
       "        text-align: right;\n",
       "    }\n",
       "</style>\n",
       "<table border=\"1\" class=\"dataframe\">\n",
       "  <thead>\n",
       "    <tr style=\"text-align: right;\">\n",
       "      <th></th>\n",
       "      <th>0</th>\n",
       "      <th>1</th>\n",
       "      <th>2</th>\n",
       "      <th>3</th>\n",
       "      <th>4</th>\n",
       "      <th>5</th>\n",
       "    </tr>\n",
       "  </thead>\n",
       "  <tbody>\n",
       "    <tr>\n",
       "      <th>0</th>\n",
       "      <td>-8.9838</td>\n",
       "      <td>-8.8101</td>\n",
       "      <td>-8.7325</td>\n",
       "      <td>6.8276</td>\n",
       "      <td>8.0838</td>\n",
       "      <td>-3.6102</td>\n",
       "    </tr>\n",
       "    <tr>\n",
       "      <th>1</th>\n",
       "      <td>-9.0780</td>\n",
       "      <td>-8.9883</td>\n",
       "      <td>-9.1242</td>\n",
       "      <td>7.0751</td>\n",
       "      <td>8.1816</td>\n",
       "      <td>-4.0691</td>\n",
       "    </tr>\n",
       "    <tr>\n",
       "      <th>2</th>\n",
       "      <td>7.1802</td>\n",
       "      <td>-5.1141</td>\n",
       "      <td>-8.4475</td>\n",
       "      <td>-0.7136</td>\n",
       "      <td>1.3681</td>\n",
       "      <td>-1.5898</td>\n",
       "    </tr>\n",
       "    <tr>\n",
       "      <th>3</th>\n",
       "      <td>10.6290</td>\n",
       "      <td>-9.0872</td>\n",
       "      <td>2.9779</td>\n",
       "      <td>6.4922</td>\n",
       "      <td>10.2654</td>\n",
       "      <td>7.7818</td>\n",
       "    </tr>\n",
       "    <tr>\n",
       "      <th>4</th>\n",
       "      <td>-9.0626</td>\n",
       "      <td>-8.9339</td>\n",
       "      <td>-9.0517</td>\n",
       "      <td>6.9821</td>\n",
       "      <td>8.3278</td>\n",
       "      <td>-4.0025</td>\n",
       "    </tr>\n",
       "    <tr>\n",
       "      <th>...</th>\n",
       "      <td>...</td>\n",
       "      <td>...</td>\n",
       "      <td>...</td>\n",
       "      <td>...</td>\n",
       "      <td>...</td>\n",
       "      <td>...</td>\n",
       "    </tr>\n",
       "    <tr>\n",
       "      <th>2198</th>\n",
       "      <td>-4.8008</td>\n",
       "      <td>-9.3978</td>\n",
       "      <td>-3.9032</td>\n",
       "      <td>5.5781</td>\n",
       "      <td>-9.0604</td>\n",
       "      <td>-10.1518</td>\n",
       "    </tr>\n",
       "    <tr>\n",
       "      <th>2199</th>\n",
       "      <td>5.2859</td>\n",
       "      <td>0.2295</td>\n",
       "      <td>6.4591</td>\n",
       "      <td>-3.2491</td>\n",
       "      <td>-10.2235</td>\n",
       "      <td>-2.2043</td>\n",
       "    </tr>\n",
       "    <tr>\n",
       "      <th>2200</th>\n",
       "      <td>-9.1839</td>\n",
       "      <td>-8.9703</td>\n",
       "      <td>-8.8012</td>\n",
       "      <td>6.9738</td>\n",
       "      <td>8.0374</td>\n",
       "      <td>-4.0400</td>\n",
       "    </tr>\n",
       "    <tr>\n",
       "      <th>2201</th>\n",
       "      <td>6.8571</td>\n",
       "      <td>-4.6372</td>\n",
       "      <td>-7.6954</td>\n",
       "      <td>0.5036</td>\n",
       "      <td>0.3776</td>\n",
       "      <td>-2.0154</td>\n",
       "    </tr>\n",
       "    <tr>\n",
       "      <th>2202</th>\n",
       "      <td>4.7700</td>\n",
       "      <td>-1.1393</td>\n",
       "      <td>7.3478</td>\n",
       "      <td>-2.4381</td>\n",
       "      <td>-10.1196</td>\n",
       "      <td>-0.8784</td>\n",
       "    </tr>\n",
       "  </tbody>\n",
       "</table>\n",
       "<p>2203 rows × 6 columns</p>\n",
       "</div>"
      ],
      "text/plain": [
       "            0       1       2       3        4        5\n",
       "0     -8.9838 -8.8101 -8.7325  6.8276   8.0838  -3.6102\n",
       "1     -9.0780 -8.9883 -9.1242  7.0751   8.1816  -4.0691\n",
       "2      7.1802 -5.1141 -8.4475 -0.7136   1.3681  -1.5898\n",
       "3     10.6290 -9.0872  2.9779  6.4922  10.2654   7.7818\n",
       "4     -9.0626 -8.9339 -9.0517  6.9821   8.3278  -4.0025\n",
       "...       ...     ...     ...     ...      ...      ...\n",
       "2198  -4.8008 -9.3978 -3.9032  5.5781  -9.0604 -10.1518\n",
       "2199   5.2859  0.2295  6.4591 -3.2491 -10.2235  -2.2043\n",
       "2200  -9.1839 -8.9703 -8.8012  6.9738   8.0374  -4.0400\n",
       "2201   6.8571 -4.6372 -7.6954  0.5036   0.3776  -2.0154\n",
       "2202   4.7700 -1.1393  7.3478 -2.4381 -10.1196  -0.8784\n",
       "\n",
       "[2203 rows x 6 columns]"
      ]
     },
     "execution_count": 14,
     "metadata": {},
     "output_type": "execute_result"
    }
   ],
   "source": [
    "data = pd.read_csv('data/6D_data_points.txt', sep=',', header=None)\n",
    "data"
   ]
  },
  {
   "cell_type": "code",
   "execution_count": 15,
   "metadata": {},
   "outputs": [
    {
     "data": {
      "text/plain": [
       "array([[ 14.67080106,   4.82568751],\n",
       "       [ 15.22467112,   4.77449289],\n",
       "       [  0.3024233 ,  -0.81330591],\n",
       "       ...,\n",
       "       [ 15.01540258,   4.66737029],\n",
       "       [  0.08649354,  -1.44946294],\n",
       "       [-12.29588301,  -9.28773937]])"
      ]
     },
     "execution_count": 15,
     "metadata": {},
     "output_type": "execute_result"
    }
   ],
   "source": [
    "data = data.to_numpy()\n",
    "\n",
    "# if data has more than 2 dim, perform PCA\n",
    "if data.shape[1] > 2:\n",
    "    from sklearn.decomposition import PCA\n",
    "    pca = PCA(n_components=2)\n",
    "    data = pca.fit_transform(data)\n",
    "    \n",
    "data"
   ]
  },
  {
   "cell_type": "code",
   "execution_count": 16,
   "metadata": {},
   "outputs": [
    {
     "data": {
      "text/plain": [
       "(2203, 2)"
      ]
     },
     "execution_count": 16,
     "metadata": {},
     "output_type": "execute_result"
    }
   ],
   "source": [
    "data.shape"
   ]
  },
  {
   "cell_type": "code",
   "execution_count": 17,
   "metadata": {},
   "outputs": [
    {
     "data": {
      "image/png": "[encoded data removed]",
      "text/plain": [
       "<Figure size 640x480 with 1 Axes>"
      ]
     },
     "metadata": {},
     "output_type": "display_data"
    }
   ],
   "source": [
    "\n",
    "# Plot the data points\n",
    "plt.scatter(data[:, 0], data[:, 1])\n",
    "\n",
    "# Save the plot as an image file\n",
    "plt.savefig('image/data_points_plot.png')\n"
   ]
  }
 ],
 "metadata": {
  "kernelspec": {
   "display_name": "ml",
   "language": "python",
   "name": "python3"
  },
  "language_info": {
   "codemirror_mode": {
    "name": "ipython",
    "version": 3
   },
   "file_extension": ".py",
   "mimetype": "text/x-python",
   "name": "python",
   "nbconvert_exporter": "python",
   "pygments_lexer": "ipython3",
   "version": "3.10.13"
  }
 },
 "nbformat": 4,
 "nbformat_minor": 2
}
